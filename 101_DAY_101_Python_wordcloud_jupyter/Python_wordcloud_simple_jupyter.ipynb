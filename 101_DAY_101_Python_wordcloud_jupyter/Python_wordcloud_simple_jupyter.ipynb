{
 "cells": [
  {
   "cell_type": "markdown",
   "id": "dying-ownership",
   "metadata": {},
   "source": [
    "# Python program to Generate a square wordcloud in jupyter notebook"
   ]
  },
  {
   "cell_type": "raw",
   "id": "heard-snapshot",
   "metadata": {},
   "source": [
    "pip install git+ssh://git@github.com/kavgan/word_cloud.git"
   ]
  },
  {
   "cell_type": "code",
   "execution_count": 12,
   "id": "powerful-production",
   "metadata": {},
   "outputs": [
    {
     "data": {
      "text/html": [
       "<div align='center' style='width:100%'><div align='center' style='text-align:justify; border-radius: 25px;background: #fff7f7;overflow: auto; width:500px !important; padding:20px; '; text-align: center; word-wrap: break-word;> <span style='color:#DBA901;font-size:0.9500000000000001em;white-space: normal;font-family:verdana;display: inline-block;line-height:30px'>create&nbsp;</span> <span style='color:#FA5858;font-size:0.8em;white-space: normal;font-family:verdana;display: inline-block;line-height:30px'>files&nbsp;</span> <span style='color:#bc72d0;font-size:3.4999999999999987em;white-space: normal;font-family:verdana;display: inline-block;line-height:30px'>day&nbsp;</span> <span style='color:#FA5858;font-size:0.8em;white-space: normal;font-family:verdana;display: inline-block;line-height:30px'>model&nbsp;</span> <span style='color:#FA5858;font-size:0.8em;white-space: normal;font-family:verdana;display: inline-block;line-height:30px'>chmod&nbsp;</span> <span style='color:#FA5858;font-size:0.8em;white-space: normal;font-family:verdana;display: inline-block;line-height:30px'>execute&nbsp;</span> <span style='color:#FA5858;font-size:0.8em;white-space: normal;font-family:verdana;display: inline-block;line-height:30px'>write&nbsp;</span> <span style='color:#FA5858;font-size:0.8em;white-space: normal;font-family:verdana;display: inline-block;line-height:30px'>permission&nbsp;</span> <span style='color:#FA5858;font-size:0.8em;white-space: normal;font-family:verdana;display: inline-block;line-height:30px'>new&nbsp;</span> <span style='color:#00b4ff;font-size:2.599999999999999em;white-space: normal;font-family:verdana;display: inline-block;line-height:30px'>python&nbsp;</span> <span style='color:#FA5858;font-size:0.8em;white-space: normal;font-family:verdana;display: inline-block;line-height:30px'>directory&nbsp;</span> <span style='color:#FA5858;font-size:0.8em;white-space: normal;font-family:verdana;display: inline-block;line-height:30px'>hello&nbsp;</span> <span style='color:#FA5858;font-size:0.8em;white-space: normal;font-family:verdana;display: inline-block;line-height:30px'>image&nbsp;</span> <span style='color:#B18904;font-size:0.65em;white-space: normal;font-family:verdana;display: inline-block;line-height:30px'>uppercase&nbsp;</span> <span style='color:#DBA901;font-size:0.9500000000000001em;white-space: normal;font-family:verdana;display: inline-block;line-height:30px'>one&nbsp;</span> <span style='color:#FA5858;font-size:0.8em;white-space: normal;font-family:verdana;display: inline-block;line-height:30px'>msp430g2553&nbsp;</span> <span style='color:#FA5858;font-size:0.8em;white-space: normal;font-family:verdana;display: inline-block;line-height:30px'>function&nbsp;</span> <span style='color:#FA5858;font-size:0.8em;white-space: normal;font-family:verdana;display: inline-block;line-height:30px'>user&nbsp;</span> <span style='color:#2ECC71;font-size:1.5499999999999998em;white-space: normal;font-family:verdana;display: inline-block;line-height:30px'>line&nbsp;</span> <span style='color:#FA5858;font-size:0.8em;white-space: normal;font-family:verdana;display: inline-block;line-height:30px'>pandas&nbsp;</span> <span style='color:#FA5858;font-size:0.8em;white-space: normal;font-family:verdana;display: inline-block;line-height:30px'>users&nbsp;</span> <span style='color:#FA5858;font-size:0.8em;white-space: normal;font-family:verdana;display: inline-block;line-height:30px'>file&nbsp;</span> <span style='color:#8000FF;font-size:2.1499999999999995em;white-space: normal;font-family:verdana;display: inline-block;line-height:30px'>using&nbsp;</span> <span style='color:#FA5858;font-size:0.8em;white-space: normal;font-family:verdana;display: inline-block;line-height:30px'>execution&nbsp;</span> <span style='color:#FA5858;font-size:0.8em;white-space: normal;font-family:verdana;display: inline-block;line-height:30px'>convert&nbsp;</span> <span style='color:#8000FF;font-size:2.1499999999999995em;white-space: normal;font-family:verdana;display: inline-block;line-height:30px'>linux&nbsp;</span> <span style='color:#DBA901;font-size:0.9500000000000001em;white-space: normal;font-family:verdana;display: inline-block;line-height:30px'>pi&nbsp;</span> <span style='color:#FA5858;font-size:0.8em;white-space: normal;font-family:verdana;display: inline-block;line-height:30px'>world&nbsp;</span> <span style='color:#B18904;font-size:0.65em;white-space: normal;font-family:verdana;display: inline-block;line-height:30px'>tuple&nbsp;</span> <span style='color:#DBA901;font-size:0.9500000000000001em;white-space: normal;font-family:verdana;display: inline-block;line-height:30px'>raspberry&nbsp;</span> <span style='color:#FF5733;font-size:1.6999999999999997em;white-space: normal;font-family:verdana;display: inline-block;line-height:30px'>command&nbsp;</span> <span style='color:#B18904;font-size:0.65em;white-space: normal;font-family:verdana;display: inline-block;line-height:30px'>values&nbsp;</span> <span style='color:#FA5858;font-size:0.8em;white-space: normal;font-family:verdana;display: inline-block;line-height:30px'>comprehensions&nbsp;</span> <span style='color:#FA5858;font-size:0.8em;white-space: normal;font-family:verdana;display: inline-block;line-height:30px'>useradd&nbsp;</span> <span style='color:#FA5858;font-size:0.8em;white-space: normal;font-family:verdana;display: inline-block;line-height:30px'>read&nbsp;</span> <span style='color:#FA5858;font-size:0.8em;white-space: normal;font-family:verdana;display: inline-block;line-height:30px'>opencv&nbsp;</span> <span style='color:#FA5858;font-size:0.8em;white-space: normal;font-family:verdana;display: inline-block;line-height:30px'>date&nbsp;</span> <span style='color:#04B404;font-size:1.1em;white-space: normal;font-family:verdana;display: inline-block;line-height:30px'>list&nbsp;</span> <span style='color:#5F6A6A;font-size:2.4499999999999993em;white-space: normal;font-family:verdana;display: inline-block;line-height:30px'>program&nbsp;</span> <span style='color:#FA5858;font-size:0.8em;white-space: normal;font-family:verdana;display: inline-block;line-height:30px'>specific&nbsp;</span></div></div>"
      ],
      "text/plain": [
       "<IPython.core.display.HTML object>"
      ]
     },
     "execution_count": 12,
     "metadata": {},
     "output_type": "execute_result"
    }
   ],
   "source": [
    "from word_cloud.word_cloud_generator import WordCloud\n",
    "from IPython.core.display import HTML\n",
    "from wordcloud import STOPWORDS \n",
    "stopwords = set(STOPWORDS)\n",
    "# initialize WordCloud\n",
    "wc=WordCloud(stopwords)\n",
    "# Read the whole text.\n",
    "texts = open('iNNovationMergeReadme.txt').read().split(\" \")\n",
    "# get html code\n",
    "embed_code=wc.get_embed_code(text=texts,random_color=True,topn=40)\n",
    "\n",
    "# display\n",
    "HTML(embed_code)"
   ]
  },
  {
   "cell_type": "code",
   "execution_count": null,
   "id": "grateful-peter",
   "metadata": {},
   "outputs": [],
   "source": []
  }
 ],
 "metadata": {
  "kernelspec": {
   "display_name": "Python 3",
   "language": "python",
   "name": "python3"
  },
  "language_info": {
   "codemirror_mode": {
    "name": "ipython",
    "version": 3
   },
   "file_extension": ".py",
   "mimetype": "text/x-python",
   "name": "python",
   "nbconvert_exporter": "python",
   "pygments_lexer": "ipython3",
   "version": "3.7.9"
  }
 },
 "nbformat": 4,
 "nbformat_minor": 5
}
