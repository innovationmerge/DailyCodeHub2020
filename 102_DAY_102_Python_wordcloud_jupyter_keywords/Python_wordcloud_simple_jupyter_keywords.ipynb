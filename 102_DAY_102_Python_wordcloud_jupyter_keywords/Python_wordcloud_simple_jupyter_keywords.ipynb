{
 "cells": [
  {
   "cell_type": "markdown",
   "id": "dying-ownership",
   "metadata": {},
   "source": [
    "# Python program to Generate a keywords and generate wordcloud in jupyter notebook"
   ]
  },
  {
   "cell_type": "raw",
   "id": "heard-snapshot",
   "metadata": {},
   "source": [
    "pip install rake-nltk"
   ]
  },
  {
   "cell_type": "code",
   "execution_count": 23,
   "id": "powerful-production",
   "metadata": {},
   "outputs": [
    {
     "data": {
      "text/html": [
       "<div align='center' style='width:100%'><div align='center' style='text-align:justify; border-radius: 25px;background: #fff7f7;overflow: auto; width:500px !important; padding:20px; '; text-align: center; word-wrap: break-word;> <span style='color:#FF5733;font-size:0.9500000000000001em;white-space: normal;font-family:verdana;display: inline-block;line-height:30px'>linux&nbsp;</span> <span style='color:#B18904;font-size:0.65em;white-space: normal;font-family:verdana;display: inline-block;line-height:30px'>specific&nbsp;</span> <span style='color:#FF5733;font-size:0.9500000000000001em;white-space: normal;font-family:verdana;display: inline-block;line-height:30px'>program&nbsp;</span> <span style='color:#3498DB;font-size:0.8em;white-space: normal;font-family:verdana;display: inline-block;line-height:30px'>useradd&nbsp;</span> <span style='color:#3498DB;font-size:0.8em;white-space: normal;font-family:verdana;display: inline-block;line-height:30px'>pi&nbsp;</span> <span style='color:#725394;font-size:3.4999999999999987em;white-space: normal;font-family:verdana;display: inline-block;line-height:30px'>day&nbsp;</span> <span style='color:#B18904;font-size:0.65em;white-space: normal;font-family:verdana;display: inline-block;line-height:30px'>values&nbsp;</span> <span style='color:#3498DB;font-size:0.8em;white-space: normal;font-family:verdana;display: inline-block;line-height:30px'>model&nbsp;</span> <span style='color:#3498DB;font-size:0.8em;white-space: normal;font-family:verdana;display: inline-block;line-height:30px'>python&nbsp;</span> <span style='color:#3498DB;font-size:0.8em;white-space: normal;font-family:verdana;display: inline-block;line-height:30px'>comprehensions&nbsp;</span> <span style='color:#04B404;font-size:1.6999999999999997em;white-space: normal;font-family:verdana;display: inline-block;line-height:30px'>command&nbsp;</span> <span style='color:#B18904;font-size:0.65em;white-space: normal;font-family:verdana;display: inline-block;line-height:30px'>uppercase&nbsp;</span> <span style='color:#3498DB;font-size:0.8em;white-space: normal;font-family:verdana;display: inline-block;line-height:30px'>hello&nbsp;</span> <span style='color:#B18904;font-size:0.65em;white-space: normal;font-family:verdana;display: inline-block;line-height:30px'>date&nbsp;</span> <span style='color:#3498DB;font-size:0.8em;white-space: normal;font-family:verdana;display: inline-block;line-height:30px'>execution&nbsp;</span> <span style='color:#3498DB;font-size:0.8em;white-space: normal;font-family:verdana;display: inline-block;line-height:30px'>pandas&nbsp;</span> <span style='color:#B18904;font-size:0.65em;white-space: normal;font-family:verdana;display: inline-block;line-height:30px'>given&nbsp;</span> <span style='color:#3498DB;font-size:0.8em;white-space: normal;font-family:verdana;display: inline-block;line-height:30px'>files&nbsp;</span> <span style='color:#B18904;font-size:0.65em;white-space: normal;font-family:verdana;display: inline-block;line-height:30px'>dataframe&nbsp;</span> <span style='color:#B18904;font-size:0.65em;white-space: normal;font-family:verdana;display: inline-block;line-height:30px'>perform&nbsp;</span> <span style='color:#B18904;font-size:0.65em;white-space: normal;font-family:verdana;display: inline-block;line-height:30px'>permissions&nbsp;</span> <span style='color:#B18904;font-size:0.65em;white-space: normal;font-family:verdana;display: inline-block;line-height:30px'>create&nbsp;</span> <span style='color:#B18904;font-size:0.65em;white-space: normal;font-family:verdana;display: inline-block;line-height:30px'>string&nbsp;</span> <span style='color:#B18904;font-size:0.65em;white-space: normal;font-family:verdana;display: inline-block;line-height:30px'>text&nbsp;</span> <span style='color:#223AE6;font-size:2.1499999999999995em;white-space: normal;font-family:verdana;display: inline-block;line-height:30px'>using&nbsp;</span> <span style='color:#B18904;font-size:0.65em;white-space: normal;font-family:verdana;display: inline-block;line-height:30px'>convert&nbsp;</span> <span style='color:#3498DB;font-size:0.8em;white-space: normal;font-family:verdana;display: inline-block;line-height:30px'>chmod&nbsp;</span> <span style='color:#FF5733;font-size:0.9500000000000001em;white-space: normal;font-family:verdana;display: inline-block;line-height:30px'>list&nbsp;</span> <span style='color:#B18904;font-size:0.65em;white-space: normal;font-family:verdana;display: inline-block;line-height:30px'>permission&nbsp;</span> <span style='color:#B18904;font-size:0.65em;white-space: normal;font-family:verdana;display: inline-block;line-height:30px'>set&nbsp;</span> <span style='color:#B18904;font-size:0.65em;white-space: normal;font-family:verdana;display: inline-block;line-height:30px'>numpy&nbsp;</span> <span style='color:#3498DB;font-size:0.8em;white-space: normal;font-family:verdana;display: inline-block;line-height:30px'>image&nbsp;</span> <span style='color:#3498DB;font-size:0.8em;white-space: normal;font-family:verdana;display: inline-block;line-height:30px'>opencv&nbsp;</span> <span style='color:#3498DB;font-size:0.8em;white-space: normal;font-family:verdana;display: inline-block;line-height:30px'>function&nbsp;</span> <span style='color:#3498DB;font-size:0.8em;white-space: normal;font-family:verdana;display: inline-block;line-height:30px'>world&nbsp;</span> <span style='color:#3498DB;font-size:0.8em;white-space: normal;font-family:verdana;display: inline-block;line-height:30px'>one&nbsp;</span> <span style='color:#B18904;font-size:0.65em;white-space: normal;font-family:verdana;display: inline-block;line-height:30px'>read&nbsp;</span> <span style='color:#3498DB;font-size:0.8em;white-space: normal;font-family:verdana;display: inline-block;line-height:30px'>raspberry&nbsp;</span> <span style='color:#0489B1;font-size:1.5499999999999998em;white-space: normal;font-family:verdana;display: inline-block;line-height:30px'>line&nbsp;</span> <span style='color:#B18904;font-size:0.65em;white-space: normal;font-family:verdana;display: inline-block;line-height:30px'>users&nbsp;</span></div></div>"
      ],
      "text/plain": [
       "<IPython.core.display.HTML object>"
      ]
     },
     "execution_count": 23,
     "metadata": {},
     "output_type": "execute_result"
    }
   ],
   "source": [
    "from word_cloud.word_cloud_generator import WordCloud\n",
    "from IPython.core.display import HTML\n",
    "from wordcloud import STOPWORDS \n",
    "from rake_nltk import Rake\n",
    "\n",
    "stopwords = set(STOPWORDS)\n",
    "# initialize WordCloud\n",
    "wc=WordCloud(stopwords)\n",
    "\n",
    "# Read the whole text.\n",
    "texts = open('iNNovationMergeReadme.txt').read()\n",
    "\n",
    "# Extract keywords from Text using NLP\n",
    "r = Rake() \n",
    "r.extract_keywords_from_text(texts)\n",
    "extract_keywords = r.get_ranked_phrases()\n",
    "extracted_keywords = ''\n",
    "extracted_keywords += \" \".join(extract_keywords)+\" \"\n",
    "# get html code\n",
    "embed_code=wc.get_embed_code(text=extract_keywords,random_color=True,topn=40)\n",
    "\n",
    "# display\n",
    "HTML(embed_code)"
   ]
  },
  {
   "cell_type": "code",
   "execution_count": null,
   "id": "grateful-peter",
   "metadata": {},
   "outputs": [],
   "source": []
  }
 ],
 "metadata": {
  "kernelspec": {
   "display_name": "Python 3",
   "language": "python",
   "name": "python3"
  },
  "language_info": {
   "codemirror_mode": {
    "name": "ipython",
    "version": 3
   },
   "file_extension": ".py",
   "mimetype": "text/x-python",
   "name": "python",
   "nbconvert_exporter": "python",
   "pygments_lexer": "ipython3",
   "version": "3.7.9"
  }
 },
 "nbformat": 4,
 "nbformat_minor": 5
}
