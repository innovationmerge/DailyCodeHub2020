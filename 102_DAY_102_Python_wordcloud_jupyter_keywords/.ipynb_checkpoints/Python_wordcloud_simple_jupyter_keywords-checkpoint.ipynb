{
 "cells": [
  {
   "cell_type": "markdown",
   "id": "dying-ownership",
   "metadata": {},
   "source": [
    "# Python program to Generate a square wordcloud in jupyter notebook"
   ]
  },
  {
   "cell_type": "raw",
   "id": "heard-snapshot",
   "metadata": {},
   "source": [
    "pip install rake-nltk"
   ]
  },
  {
   "cell_type": "code",
   "execution_count": 2,
   "id": "powerful-production",
   "metadata": {},
   "outputs": [
    {
     "ename": "ModuleNotFoundError",
     "evalue": "No module named 'rake_nltk'",
     "output_type": "error",
     "traceback": [
      "\u001b[1;31m---------------------------------------------------------------------------\u001b[0m",
      "\u001b[1;31mModuleNotFoundError\u001b[0m                       Traceback (most recent call last)",
      "\u001b[1;32m<ipython-input-2-9041c65ab4a9>\u001b[0m in \u001b[0;36m<module>\u001b[1;34m\u001b[0m\n\u001b[0;32m      2\u001b[0m \u001b[1;32mfrom\u001b[0m \u001b[0mIPython\u001b[0m\u001b[1;33m.\u001b[0m\u001b[0mcore\u001b[0m\u001b[1;33m.\u001b[0m\u001b[0mdisplay\u001b[0m \u001b[1;32mimport\u001b[0m \u001b[0mHTML\u001b[0m\u001b[1;33m\u001b[0m\u001b[1;33m\u001b[0m\u001b[0m\n\u001b[0;32m      3\u001b[0m \u001b[1;32mfrom\u001b[0m \u001b[0mwordcloud\u001b[0m \u001b[1;32mimport\u001b[0m \u001b[0mSTOPWORDS\u001b[0m\u001b[1;33m\u001b[0m\u001b[1;33m\u001b[0m\u001b[0m\n\u001b[1;32m----> 4\u001b[1;33m \u001b[1;32mfrom\u001b[0m \u001b[0mrake_nltk\u001b[0m \u001b[1;32mimport\u001b[0m \u001b[0mRake\u001b[0m\u001b[1;33m\u001b[0m\u001b[1;33m\u001b[0m\u001b[0m\n\u001b[0m\u001b[0;32m      5\u001b[0m \u001b[1;33m\u001b[0m\u001b[0m\n\u001b[0;32m      6\u001b[0m \u001b[0mstopwords\u001b[0m \u001b[1;33m=\u001b[0m \u001b[0mset\u001b[0m\u001b[1;33m(\u001b[0m\u001b[0mSTOPWORDS\u001b[0m\u001b[1;33m)\u001b[0m\u001b[1;33m\u001b[0m\u001b[1;33m\u001b[0m\u001b[0m\n",
      "\u001b[1;31mModuleNotFoundError\u001b[0m: No module named 'rake_nltk'"
     ]
    }
   ],
   "source": [
    "from word_cloud.word_cloud_generator import WordCloud\n",
    "from IPython.core.display import HTML\n",
    "from wordcloud import STOPWORDS \n",
    "from rake_nltk import Rake\n",
    "\n",
    "stopwords = set(STOPWORDS)\n",
    "# initialize WordCloud\n",
    "wc=WordCloud(stopwords)\n",
    "\n",
    "# Read the whole text.\n",
    "texts = open('iNNovationMergeReadme.txt').read().split(\" \")\n",
    "\n",
    "# Extract keywords from Text using NLP\n",
    "r = Rake() \n",
    "r.extract_keywords_from_text(text)\n",
    "extract_keywords = r.get_ranked_phrases()\n",
    "# get html code\n",
    "embed_code=wc.get_embed_code(text=extract_keywords,random_color=True,topn=40)\n",
    "\n",
    "# display\n",
    "HTML(embed_code)"
   ]
  },
  {
   "cell_type": "code",
   "execution_count": null,
   "id": "grateful-peter",
   "metadata": {},
   "outputs": [],
   "source": []
  }
 ],
 "metadata": {
  "kernelspec": {
   "display_name": "Python 3",
   "language": "python",
   "name": "python3"
  },
  "language_info": {
   "codemirror_mode": {
    "name": "ipython",
    "version": 3
   },
   "file_extension": ".py",
   "mimetype": "text/x-python",
   "name": "python",
   "nbconvert_exporter": "python",
   "pygments_lexer": "ipython3",
   "version": "3.7.9"
  }
 },
 "nbformat": 4,
 "nbformat_minor": 5
}
